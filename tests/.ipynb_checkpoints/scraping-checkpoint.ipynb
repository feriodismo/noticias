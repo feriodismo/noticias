{
 "cells": [
  {
   "cell_type": "code",
   "execution_count": 49,
   "metadata": {},
   "outputs": [],
   "source": [
    "# !pip install bs4\n",
    "from urllib.request import urlopen\n",
    "from bs4 import BeautifulSoup as bs\n",
    "import requests"
   ]
  },
  {
   "cell_type": "code",
   "execution_count": 50,
   "metadata": {},
   "outputs": [],
   "source": [
    "# determinamos que pagina usar para scrapear\n",
    "url = ''\n",
    "# abro la pagina web\n",
    "headers={'User-Agent': 'Mozilla/5.0 (Windows NT 10.0; Win64; x64) AppleWebKit/537.36 (KHTML, like Gecko) Chrome/85.0.4183.102 Safari/537.36'}\n",
    "page = urlopen(url)\n",
    "page = bs(page, \"html.parser\")\n",
    "# print(page)"
   ]
  },
  {
   "cell_type": "code",
   "execution_count": 107,
   "metadata": {},
   "outputs": [
    {
     "name": "stdout",
     "output_type": "stream",
     "text": [
      "                                               title  \\\n",
      "0  Pareja que emigra junta rompe relación en medi...   \n",
      "1  Carlos Coste usa su increíble capacidad pulmon...   \n",
      "2  Colegio pide recarga Movistar en la lista escolar   \n",
      "3  Señor que no puede comprar cauchos instala alp...   \n",
      "4   David Blaine flota a 7260 metros en globo de HTV   \n",
      "5  Hard Rock Café se cambia el nombre a Hard KPop...   \n",
      "6  Asistente de automisa pide al padre que le ech...   \n",
      "7  Pozo de los deseos le parte las piernas a seño...   \n",
      "8  Chamo toca fondito del fregadero y se conviert...   \n",
      "9   NBA 2K21 implementa botón para boicotear la liga   \n",
      "\n",
      "                                                 img                 date  \\\n",
      "0  https://www.elchiguirebipolar.net/wp/wp-conten...  10 septiembre  2020   \n",
      "1  https://www.elchiguirebipolar.net/wp/wp-conten...   9 septiembre  2020   \n",
      "2  https://www.elchiguirebipolar.net/wp/wp-conten...   8 septiembre  2020   \n",
      "3  https://www.elchiguirebipolar.net/wp/wp-conten...   3 septiembre  2020   \n",
      "4  https://www.elchiguirebipolar.net/wp/wp-conten...   2 septiembre  2020   \n",
      "5  https://www.elchiguirebipolar.net/wp/wp-conten...   1 septiembre  2020   \n",
      "6  https://www.elchiguirebipolar.net/wp/wp-conten...   1 septiembre  2020   \n",
      "7  https://www.elchiguirebipolar.net/wp/wp-conten...      31 agosto  2020   \n",
      "8  https://www.elchiguirebipolar.net/wp/wp-conten...      31 agosto  2020   \n",
      "9  https://www.elchiguirebipolar.net/wp/wp-conten...      28 agosto  2020   \n",
      "\n",
      "                                                 ctn  \\\n",
      "0  [Andreína Morales y Gabriel Acosta estaban lis...   \n",
      "1  [El buceador libre de clase mundial Carlos Cos...   \n",
      "2  [La Unidad Educativa Instituto Pedagógico Cole...   \n",
      "3  [Desde hace 12 años, el señor Jose Reynaldo Si...   \n",
      "4  [El mago, ilusionista y heredero de la casa Ch...   \n",
      "5  [En días recientes trascendió la noticia del c...   \n",
      "6  [La nueva normalidad ha causado que servicios ...   \n",
      "7  [En un inocente —pero desesperado— intento de ...   \n",
      "8  [Un extraño suceso ocurrió la tarde de hoy cua...   \n",
      "9  [El pasado miércoles, los Bucks de Milwaukee d...   \n",
      "\n",
      "                                           bot_enter  \n",
      "0  https://www.elchiguirebipolar.net/10-09-2020/p...  \n",
      "1  https://www.elchiguirebipolar.net/09-09-2020/c...  \n",
      "2  https://www.elchiguirebipolar.net/08-09-2020/c...  \n",
      "3  https://www.elchiguirebipolar.net/03-09-2020/s...  \n",
      "4  https://www.elchiguirebipolar.net/02-09-2020/d...  \n",
      "5  https://www.elchiguirebipolar.net/01-09-2020/h...  \n",
      "6  https://www.elchiguirebipolar.net/01-09-2020/a...  \n",
      "7  https://www.elchiguirebipolar.net/31-08-2020/p...  \n",
      "8  https://www.elchiguirebipolar.net/31-08-2020/c...  \n",
      "9  https://www.elchiguirebipolar.net/28-08-2020/n...  \n"
     ]
    }
   ],
   "source": [
    "import pandas as pd\n",
    "articulo = page.findAll(\"article\")\n",
    "# print(articulo[11].figure.img['src'])\n",
    "title, img, date, ctn, bot_enter = [],[],[],[],[] \n",
    "\n",
    "headers = ['title', 'img', 'date', 'ctn', 'bot_enter']\n",
    "data = pd.DataFrame(columns=headers)\n",
    "\n",
    "for art in articulo[:10]:\n",
    "    title.append(art.h1.a.string)\n",
    "    img.append(art.figure.img['src'])\n",
    "    date.append(art.p.time.string)\n",
    "    ctn.append(art.findAll(\"p\")[1])\n",
    "    bot_enter.append(art.findAll(\"a\")[2]['href'])\n",
    "\n",
    "data['title'] = title\n",
    "data['img'] = img\n",
    "data['date'] = date\n",
    "data['ctn'] = ctn\n",
    "data['bot_enter'] = bot_enter\n",
    "\n",
    "c = data.to_csv('chi.csv', index=False)\n",
    "# print(data)"
   ]
  },
  {
   "cell_type": "code",
   "execution_count": null,
   "metadata": {},
   "outputs": [],
   "source": []
  }
 ],
 "metadata": {
  "kernelspec": {
   "display_name": "Python 3",
   "language": "python",
   "name": "python3"
  },
  "language_info": {
   "codemirror_mode": {
    "name": "ipython",
    "version": 3
   },
   "file_extension": ".py",
   "mimetype": "text/x-python",
   "name": "python",
   "nbconvert_exporter": "python",
   "pygments_lexer": "ipython3",
   "version": "3.7.8"
  }
 },
 "nbformat": 4,
 "nbformat_minor": 4
}
